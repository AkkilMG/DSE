{
 "cells": [
  {
   "cell_type": "code",
   "execution_count": 1,
   "id": "0f337ebb",
   "metadata": {},
   "outputs": [
    {
     "name": "stdout",
     "output_type": "stream",
     "text": [
      "Inpput:\n",
      "[[0.66666667 1.        ]\n",
      " [0.33333333 1.        ]\n",
      " [1.         0.66666667]]\n",
      "Actual:\n",
      "[[0.92]\n",
      " [0.86]\n",
      " [0.89]]\n",
      "Predicted:\n",
      " [[0.89124523]\n",
      " [0.88634205]\n",
      " [0.892937  ]]\n"
     ]
    }
   ],
   "source": [
    "import numpy as np\n",
    "x=np.array(([2,9],[1,9],[3,6]),dtype=float)\n",
    "y=np.array(([92],[86],[89]),dtype=float)\n",
    "x=x/np.amax(x,axis=0)\n",
    "y=y/100\n",
    "\n",
    "def sigmoid(x):\n",
    "    return 1/(1+np.exp(-x))\n",
    "    \n",
    "def derivation_sigmoid(x):\n",
    "    return x*(1-x)\n",
    "    \n",
    "epoch=5000\n",
    "lr=0.1\n",
    "inputlayer_neurons=2\n",
    "hiddenlayer_neurons=3\n",
    "outputlayer_neurons=1\n",
    "\n",
    "wb=np.random.uniform(size=(inputlayer_neurons,hiddenlayer_neurons))\n",
    "bb=np.random.uniform(size=(1,hiddenlayer_neurons))\n",
    "wout=np.random.uniform(size=(hiddenlayer_neurons,outputlayer_neurons))\n",
    "bout=np.random.uniform(size=(1,outputlayer_neurons))\n",
    "for i in range(epoch):\n",
    "    hinp1=np.dot(x,wb)\n",
    "    hinp=hinp1+bb\n",
    "    hlayer_act=sigmoid(hinp)\n",
    "    outinp1=np.dot(hlayer_act,wout)\n",
    "    outinp=outinp1+bout\n",
    "    output=sigmoid(outinp)\n",
    "    \n",
    "    EO=y-output\n",
    "    outgrad=derivation_sigmoid(output)\n",
    "    d_output=EO*outgrad\n",
    "    EH=d_output.dot(wout.T)\n",
    "    hiddengrad=derivation_sigmoid(hlayer_act)\n",
    "    d_hiddenlayer=EH*hiddengrad\n",
    "    wout+=hlayer_act.T.dot(d_output)*lr\n",
    "    wb+=x.T.dot(d_output)*lr\n",
    "    \n",
    "print(\"Inpput:\\n\" +str(x))\n",
    "print(\"Actual:\\n\" +str(y))\n",
    "print(\"Predicted:\\n\",output)\n"
   ]
  },
  {
   "cell_type": "code",
   "execution_count": null,
   "id": "bb4c10e7",
   "metadata": {},
   "outputs": [],
   "source": []
  }
 ],
 "metadata": {
  "kernelspec": {
   "display_name": "Python 3",
   "language": "python",
   "name": "python3"
  },
  "language_info": {
   "codemirror_mode": {
    "name": "ipython",
    "version": 3
   },
   "file_extension": ".py",
   "mimetype": "text/x-python",
   "name": "python",
   "nbconvert_exporter": "python",
   "pygments_lexer": "ipython3",
   "version": "3.8.8"
  }
 },
 "nbformat": 4,
 "nbformat_minor": 5
}
