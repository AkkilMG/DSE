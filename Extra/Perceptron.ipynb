{
 "cells": [
  {
   "cell_type": "markdown",
   "id": "492fc203",
   "metadata": {},
   "source": [
    "## Perceptron AND"
   ]
  },
  {
   "cell_type": "code",
   "execution_count": 16,
   "id": "f6ed95b3",
   "metadata": {},
   "outputs": [
    {
     "name": "stdout",
     "output_type": "stream",
     "text": [
      "0\n",
      "0\n",
      "0\n",
      "1\n"
     ]
    }
   ],
   "source": [
    "import numpy as np\n",
    "step_function = lambda x: 1 if x>=0 else 0\n",
    "perceptron = lambda weights, bias, x: step_function(np.dot(weights, x)+bias)\n",
    "\n",
    "weights, bias = [2,2], -3\n",
    "output = perceptron(weights, bias, [0,0])\n",
    "print(output)\n",
    "output = perceptron(weights, bias, [0,1])\n",
    "print(output)\n",
    "output = perceptron(weights, bias, [1,0])\n",
    "print(output)\n",
    "output = perceptron(weights, bias, [1,1])\n",
    "print(output)"
   ]
  },
  {
   "cell_type": "markdown",
   "id": "47cf5668",
   "metadata": {},
   "source": [
    "## Perceptron OR"
   ]
  },
  {
   "cell_type": "code",
   "execution_count": 17,
   "id": "b480a1e8",
   "metadata": {},
   "outputs": [
    {
     "name": "stdout",
     "output_type": "stream",
     "text": [
      "0\n",
      "1\n",
      "1\n",
      "1\n"
     ]
    }
   ],
   "source": [
    "import numpy as np\n",
    "step_function = lambda x: 1 if x>=0 else 0\n",
    "perceptron = lambda weights, bias, x: step_function(np.dot(weights, x)+bias)\n",
    "\n",
    "weights, bias = [1,1], -0.5\n",
    "output = perceptron(weights, bias, [0,0])\n",
    "print(output)\n",
    "output = perceptron(weights, bias, [0,1])\n",
    "print(output)\n",
    "output = perceptron(weights, bias, [1,0])\n",
    "print(output)\n",
    "output = perceptron(weights, bias, [1,1])\n",
    "print(output)"
   ]
  },
  {
   "cell_type": "markdown",
   "id": "3538d5e6",
   "metadata": {},
   "source": [
    "## Perceptron NOR"
   ]
  },
  {
   "cell_type": "code",
   "execution_count": 38,
   "id": "3bec7084",
   "metadata": {},
   "outputs": [
    {
     "name": "stdout",
     "output_type": "stream",
     "text": [
      "1\n",
      "0\n",
      "0\n",
      "0\n"
     ]
    }
   ],
   "source": [
    "import numpy as np\n",
    "step_function = lambda x: 1 if x>=0 else 0\n",
    "perceptron = lambda weights, bias, x: step_function(np.dot(weights, x)+bias)\n",
    "nperceptron = lambda weights, bias, x: perceptron(-1, 0.5, perceptron(weights, bias, x))\n",
    "weights, bias = [1,1], -0.5\n",
    "\n",
    "output = nperceptron(weights, bias, [0,0])\n",
    "print(output)\n",
    "output = nperceptron(weights, bias, [0,1])\n",
    "print(output)\n",
    "output = nperceptron(weights, bias, [1,0])\n",
    "print(output)\n",
    "output = nperceptron(weights, bias, [1,1])\n",
    "print(output)"
   ]
  },
  {
   "cell_type": "markdown",
   "id": "7145d46d",
   "metadata": {},
   "source": [
    "## Perceptron NAND"
   ]
  },
  {
   "cell_type": "code",
   "execution_count": 39,
   "id": "3bc110e6",
   "metadata": {},
   "outputs": [
    {
     "name": "stdout",
     "output_type": "stream",
     "text": [
      "1\n",
      "1\n",
      "1\n",
      "0\n"
     ]
    }
   ],
   "source": [
    "import numpy as np\n",
    "step_function = lambda x: 1 if x>=0 else 0\n",
    "perceptron = lambda weights, bias, x: step_function(np.dot(weights, x)+bias)\n",
    "nperceptron = lambda weights, bias, x: perceptron(-1, 0.5, perceptron(weights, bias, x))\n",
    "weights, bias = [2,2], -3\n",
    "\n",
    "output = nperceptron(weights, bias, [0,0])\n",
    "print(output)\n",
    "output = nperceptron(weights, bias, [0,1])\n",
    "print(output)\n",
    "output = nperceptron(weights, bias, [1,0])\n",
    "print(output)\n",
    "output = nperceptron(weights, bias, [1,1])\n",
    "print(output)"
   ]
  },
  {
   "cell_type": "markdown",
   "id": "88f9e48d",
   "metadata": {},
   "source": [
    "## Perceptron XOR"
   ]
  },
  {
   "cell_type": "code",
   "execution_count": 45,
   "id": "5c6618ce",
   "metadata": {},
   "outputs": [
    {
     "name": "stdout",
     "output_type": "stream",
     "text": [
      "0\n",
      "1\n",
      "1\n",
      "0\n"
     ]
    }
   ],
   "source": [
    "import numpy as np\n",
    "step_function = lambda x: 1 if x>=0 else 0\n",
    "perceptron = lambda weights, bias, x: step_function(np.dot(weights, x)+bias)\n",
    "or_perceptron = lambda x: perceptron([1,1], -0.5, x)\n",
    "nand_perceptron = lambda x: perceptron(-1, 0.5, perceptron([2,2], -3, x))\n",
    "nperceptron = lambda x: perceptron([2,2], -3, [or_perceptron(x), nand_perceptron(x)])\n",
    "\n",
    "output = nperceptron([0,0])\n",
    "print(output)\n",
    "output = nperceptron([0,1])\n",
    "print(output)\n",
    "output = nperceptron([1,0])\n",
    "print(output)\n",
    "output = nperceptron([1,1])\n",
    "print(output)"
   ]
  }
 ],
 "metadata": {
  "kernelspec": {
   "display_name": "Python 3",
   "language": "python",
   "name": "python3"
  },
  "language_info": {
   "codemirror_mode": {
    "name": "ipython",
    "version": 3
   },
   "file_extension": ".py",
   "mimetype": "text/x-python",
   "name": "python",
   "nbconvert_exporter": "python",
   "pygments_lexer": "ipython3",
   "version": "3.8.8"
  }
 },
 "nbformat": 4,
 "nbformat_minor": 5
}
