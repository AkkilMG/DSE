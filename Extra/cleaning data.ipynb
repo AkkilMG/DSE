{
 "cells": [
  {
   "cell_type": "markdown",
   "id": "8fdc6ed4",
   "metadata": {},
   "source": [
    "# Cleaing data\n",
    "\n",
    "## FAQ\n",
    "\n",
    "1. What is cleaning data?\n",
    "Data cleaning means fixing bad data in your data set.\n",
    "\n",
    "Bad data could be:\n",
    "- Empty cells\n",
    "- Data in wrong format\n",
    "- Wrong data\n",
    "- Duplicates\n"
   ]
  },
  {
   "cell_type": "markdown",
   "id": "b9183342",
   "metadata": {},
   "source": [
    "### Empty Cells"
   ]
  },
  {
   "cell_type": "code",
   "execution_count": null,
   "id": "60f40aad",
   "metadata": {},
   "outputs": [],
   "source": [
    "import pandas as pd\n",
    "\n",
    "df = pd.read_csv('data.csv')\n",
    "\n",
    "new_df = df.dropna()\n",
    "\n",
    "print(new_df.to_string())"
   ]
  },
  {
   "cell_type": "markdown",
   "id": "98570840",
   "metadata": {},
   "source": [
    "### Data in wrong format"
   ]
  },
  {
   "cell_type": "code",
   "execution_count": null,
   "id": "f6fb6a59",
   "metadata": {},
   "outputs": [],
   "source": [
    "import pandas as pd\n",
    "\n",
    "df = pd.read_csv('data.csv')\n",
    "\n",
    "df['Date'] = pd.to_datetime(df['Date'])\n",
    "\n",
    "print(df.to_string())"
   ]
  },
  {
   "cell_type": "markdown",
   "id": "bfa4cdc8",
   "metadata": {},
   "source": [
    "### Wrong Data"
   ]
  },
  {
   "cell_type": "code",
   "execution_count": null,
   "id": "4af997c6",
   "metadata": {},
   "outputs": [],
   "source": [
    "for x in df.index:\n",
    "  if df.loc[x, \"Duration\"] > 120:\n",
    "    df.loc[x, \"Duration\"] = 120"
   ]
  },
  {
   "cell_type": "markdown",
   "id": "54610a4a",
   "metadata": {},
   "source": [
    "### Duplicate"
   ]
  },
  {
   "cell_type": "code",
   "execution_count": null,
   "id": "895acc27",
   "metadata": {},
   "outputs": [],
   "source": [
    "df.drop_duplicates(inplace = True)"
   ]
  }
 ],
 "metadata": {
  "kernelspec": {
   "display_name": "Python 3",
   "language": "python",
   "name": "python3"
  },
  "language_info": {
   "codemirror_mode": {
    "name": "ipython",
    "version": 3
   },
   "file_extension": ".py",
   "mimetype": "text/x-python",
   "name": "python",
   "nbconvert_exporter": "python",
   "pygments_lexer": "ipython3",
   "version": "3.8.8"
  }
 },
 "nbformat": 4,
 "nbformat_minor": 5
}
