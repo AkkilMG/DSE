{
 "cells": [
  {
   "cell_type": "code",
   "execution_count": 18,
   "metadata": {},
   "outputs": [
    {
     "name": "stdout",
     "output_type": "stream",
     "text": [
      "1 ['# New line 1d line# New line 1']\n"
     ]
    }
   ],
   "source": [
    "import re\n",
    "start = 0\n",
    "with open('./input.txt', 'r') as f:\n",
    "    for line in f:\n",
    "        if(re.match(\"^#\", line)):\n",
    "            start+=1\n",
    "\n",
    "with open('./input.txt', 'r') as f:\n",
    "    lines = [x.strip() for x in f.readlines()]\n",
    "    \n",
    "# with open('./input.txt', 'w') as f:\n",
    "#     f.write(\"# Newly added line\")\n",
    "\n",
    "with open('./input.txt', 'r+') as f:\n",
    "    f.writelines([\"# New line 1\"])\n",
    "\n",
    "with open('./input.txt', 'a') as f:\n",
    "    f.writelines(\"# New line 1\")\n",
    "\n",
    "print(start, lines)"
   ]
  },
  {
   "cell_type": "code",
   "execution_count": 30,
   "metadata": {},
   "outputs": [
    {
     "name": "stdout",
     "output_type": "stream",
     "text": [
      "Requirement already satisfied: bs4 in c:\\users\\dell\\miniconda3\\lib\\site-packages (0.0.1)\n",
      "Requirement already satisfied: html5lib in c:\\users\\dell\\miniconda3\\lib\\site-packages (1.1)\n",
      "Requirement already satisfied: requests in c:\\users\\dell\\miniconda3\\lib\\site-packages (2.27.1)\n",
      "Requirement already satisfied: beautifulsoup4 in c:\\users\\dell\\miniconda3\\lib\\site-packages (from bs4) (4.12.2)\n",
      "Requirement already satisfied: webencodings in c:\\users\\dell\\miniconda3\\lib\\site-packages (from html5lib) (0.5.1)\n",
      "Requirement already satisfied: six>=1.9 in c:\\users\\dell\\miniconda3\\lib\\site-packages (from html5lib) (1.16.0)\n",
      "Requirement already satisfied: charset-normalizer~=2.0.0 in c:\\users\\dell\\miniconda3\\lib\\site-packages (from requests) (2.0.4)\n",
      "Requirement already satisfied: idna<4,>=2.5 in c:\\users\\dell\\miniconda3\\lib\\site-packages (from requests) (3.3)\n",
      "Requirement already satisfied: certifi>=2017.4.17 in c:\\users\\dell\\miniconda3\\lib\\site-packages (from requests) (2023.11.17)\n",
      "Requirement already satisfied: urllib3<1.27,>=1.21.1 in c:\\users\\dell\\miniconda3\\lib\\site-packages (from requests) (1.26.8)\n",
      "Requirement already satisfied: soupsieve>1.2 in c:\\users\\dell\\miniconda3\\lib\\site-packages (from beautifulsoup4->bs4) (2.5)\n",
      "Note: you may need to restart the kernel to use updated packages.\n"
     ]
    }
   ],
   "source": [
    "%pip install bs4 html5lib requests"
   ]
  },
  {
   "cell_type": "code",
   "execution_count": 2,
   "metadata": {},
   "outputs": [
    {
     "name": "stdout",
     "output_type": "stream",
     "text": [
      "113\n"
     ]
    }
   ],
   "source": [
    "from bs4 import BeautifulSoup\n",
    "import requests\n",
    "\n",
    "text = requests.get(\"https://www.speedtest.net/\").text\n",
    "soup = BeautifulSoup(text, \"html5lib\")\n",
    "all_urls = [a['href'] for a in soup('a') if a.has_attr('href')]\n",
    "print(len(all_urls))"
   ]
  },
  {
   "cell_type": "code",
   "execution_count": 5,
   "metadata": {},
   "outputs": [
    {
     "name": "stdout",
     "output_type": "stream",
     "text": [
      "None\n"
     ]
    }
   ],
   "source": [
    "import re\n",
    "\n",
    "regex = \"^https?://.*\\.house\\.gov/?$\"\n",
    "print(re.match(regex, 'https://akkil.house.gov.in'))"
   ]
  }
 ],
 "metadata": {
  "kernelspec": {
   "display_name": "base",
   "language": "python",
   "name": "python3"
  },
  "language_info": {
   "codemirror_mode": {
    "name": "ipython",
    "version": 3
   },
   "file_extension": ".py",
   "mimetype": "text/x-python",
   "name": "python",
   "nbconvert_exporter": "python",
   "pygments_lexer": "ipython3",
   "version": "3.9.12"
  }
 },
 "nbformat": 4,
 "nbformat_minor": 2
}
